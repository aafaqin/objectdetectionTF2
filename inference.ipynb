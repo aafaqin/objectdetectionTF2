{
 "cells": [
  {
   "cell_type": "code",
   "execution_count": 1,
   "metadata": {
    "collapsed": true
   },
   "outputs": [],
   "source": [
    "import os\n",
    "import pathlib\n",
    "\n",
    "# Clone the tensorflow models repository if it doesn't already exist\n",
    "if \"models\" in pathlib.Path.cwd().parts:\n",
    "  while \"models\" in pathlib.Path.cwd().parts:\n",
    "    os.chdir('..')\n",
    "elif not pathlib.Path('models').exists():\n",
    "  !git clone --depth 1 https://github.com/tensorflow/models\n",
    "\n",
    "\n",
    "# Install the Object Detection API"
   ]
  },
  {
   "cell_type": "code",
   "execution_count": 2,
   "outputs": [
    {
     "name": "stdout",
     "output_type": "stream",
     "text": [
      "/home/aafaq/PycharmProjects/objectdetectionTF2/models/research\n",
      "Processing /home/aafaq/PycharmProjects/objectdetectionTF2/models/research\r\n",
      "Requirement already satisfied: avro-python3 in /media/aafaq/work_drive/anaconda3/envs/NNs/lib/python3.7/site-packages (from object-detection==0.1) (1.10.0)\r\n",
      "Requirement already satisfied: apache-beam in /media/aafaq/work_drive/anaconda3/envs/NNs/lib/python3.7/site-packages (from object-detection==0.1) (2.24.0)\r\n",
      "Requirement already satisfied: pillow in /media/aafaq/work_drive/anaconda3/envs/NNs/lib/python3.7/site-packages (from object-detection==0.1) (7.1.2)\r\n",
      "Requirement already satisfied: lxml in /media/aafaq/work_drive/anaconda3/envs/NNs/lib/python3.7/site-packages (from object-detection==0.1) (4.5.2)\r\n",
      "Requirement already satisfied: matplotlib in /media/aafaq/work_drive/anaconda3/envs/NNs/lib/python3.7/site-packages (from object-detection==0.1) (3.2.2)\r\n",
      "Requirement already satisfied: Cython in /media/aafaq/work_drive/anaconda3/envs/NNs/lib/python3.7/site-packages (from object-detection==0.1) (0.29.21)\r\n",
      "Requirement already satisfied: contextlib2 in /media/aafaq/work_drive/anaconda3/envs/NNs/lib/python3.7/site-packages (from object-detection==0.1) (0.6.0.post1)\r\n",
      "Requirement already satisfied: tf-slim in /media/aafaq/work_drive/anaconda3/envs/NNs/lib/python3.7/site-packages (from object-detection==0.1) (1.1.0)\r\n",
      "Requirement already satisfied: six in /media/aafaq/work_drive/anaconda3/envs/NNs/lib/python3.7/site-packages (from object-detection==0.1) (1.15.0)\r\n",
      "Requirement already satisfied: pycocotools in /media/aafaq/work_drive/anaconda3/envs/NNs/lib/python3.7/site-packages (from object-detection==0.1) (2.0.1)\r\n",
      "Requirement already satisfied: scipy in /media/aafaq/work_drive/anaconda3/envs/NNs/lib/python3.7/site-packages (from object-detection==0.1) (1.4.1)\r\n",
      "Requirement already satisfied: pandas in /media/aafaq/work_drive/anaconda3/envs/NNs/lib/python3.7/site-packages (from object-detection==0.1) (1.1.2)\r\n",
      "Requirement already satisfied: tf-models-official in /media/aafaq/work_drive/anaconda3/envs/NNs/lib/python3.7/site-packages (from object-detection==0.1) (2.3.0)\r\n",
      "Requirement already satisfied: mock<3.0.0,>=1.0.1 in /media/aafaq/work_drive/anaconda3/envs/NNs/lib/python3.7/site-packages (from apache-beam->object-detection==0.1) (2.0.0)\r\n",
      "Requirement already satisfied: hdfs<3.0.0,>=2.1.0 in /media/aafaq/work_drive/anaconda3/envs/NNs/lib/python3.7/site-packages (from apache-beam->object-detection==0.1) (2.5.8)\r\n",
      "Requirement already satisfied: oauth2client<4,>=2.0.1 in /media/aafaq/work_drive/anaconda3/envs/NNs/lib/python3.7/site-packages (from apache-beam->object-detection==0.1) (3.0.0)\r\n",
      "Requirement already satisfied: requests<3.0.0,>=2.24.0 in /media/aafaq/work_drive/anaconda3/envs/NNs/lib/python3.7/site-packages (from apache-beam->object-detection==0.1) (2.24.0)\r\n",
      "Requirement already satisfied: pytz>=2018.3 in /media/aafaq/work_drive/anaconda3/envs/NNs/lib/python3.7/site-packages (from apache-beam->object-detection==0.1) (2020.1)\r\n",
      "Requirement already satisfied: future<1.0.0,>=0.18.2 in /media/aafaq/work_drive/anaconda3/envs/NNs/lib/python3.7/site-packages (from apache-beam->object-detection==0.1) (0.18.2)\r\n",
      "Requirement already satisfied: pyarrow<0.18.0,>=0.15.1; python_version >= \"3.0\" or platform_system != \"Windows\" in /media/aafaq/work_drive/anaconda3/envs/NNs/lib/python3.7/site-packages (from apache-beam->object-detection==0.1) (0.17.1)\r\n",
      "Requirement already satisfied: crcmod<2.0,>=1.7 in /media/aafaq/work_drive/anaconda3/envs/NNs/lib/python3.7/site-packages (from apache-beam->object-detection==0.1) (1.7)\r\n",
      "Requirement already satisfied: typing-extensions<3.8.0,>=3.7.0 in /media/aafaq/work_drive/anaconda3/envs/NNs/lib/python3.7/site-packages (from apache-beam->object-detection==0.1) (3.7.4.3)\r\n",
      "Requirement already satisfied: dill<0.3.2,>=0.3.1.1 in /media/aafaq/work_drive/anaconda3/envs/NNs/lib/python3.7/site-packages (from apache-beam->object-detection==0.1) (0.3.1.1)\r\n",
      "Requirement already satisfied: grpcio<2,>=1.29.0 in /home/aafaq/.local/lib/python3.7/site-packages (from apache-beam->object-detection==0.1) (1.29.0)\r\n",
      "Requirement already satisfied: httplib2<0.18.0,>=0.8 in /media/aafaq/work_drive/anaconda3/envs/NNs/lib/python3.7/site-packages (from apache-beam->object-detection==0.1) (0.17.4)\r\n",
      "Requirement already satisfied: python-dateutil<3,>=2.8.0 in /media/aafaq/work_drive/anaconda3/envs/NNs/lib/python3.7/site-packages (from apache-beam->object-detection==0.1) (2.8.1)\r\n",
      "Requirement already satisfied: pydot<2,>=1.2.0 in /media/aafaq/work_drive/anaconda3/envs/NNs/lib/python3.7/site-packages (from apache-beam->object-detection==0.1) (1.4.1)\r\n",
      "Requirement already satisfied: fastavro<0.24,>=0.21.4 in /media/aafaq/work_drive/anaconda3/envs/NNs/lib/python3.7/site-packages (from apache-beam->object-detection==0.1) (0.23.6)\r\n",
      "Requirement already satisfied: protobuf<4,>=3.12.2 in /home/aafaq/.local/lib/python3.7/site-packages (from apache-beam->object-detection==0.1) (3.12.2)\r\n",
      "Requirement already satisfied: numpy<2,>=1.14.3 in /media/aafaq/work_drive/anaconda3/envs/NNs/lib/python3.7/site-packages (from apache-beam->object-detection==0.1) (1.18.1)\r\n",
      "Requirement already satisfied: pymongo<4.0.0,>=3.8.0 in /media/aafaq/work_drive/anaconda3/envs/NNs/lib/python3.7/site-packages (from apache-beam->object-detection==0.1) (3.11.0)\r\n",
      "Requirement already satisfied: pyparsing!=2.0.4,!=2.1.2,!=2.1.6,>=2.0.1 in /media/aafaq/work_drive/anaconda3/envs/NNs/lib/python3.7/site-packages (from matplotlib->object-detection==0.1) (2.4.7)\r\n",
      "Requirement already satisfied: kiwisolver>=1.0.1 in /media/aafaq/work_drive/anaconda3/envs/NNs/lib/python3.7/site-packages (from matplotlib->object-detection==0.1) (1.2.0)\r\n",
      "Requirement already satisfied: cycler>=0.10 in /media/aafaq/work_drive/anaconda3/envs/NNs/lib/python3.7/site-packages (from matplotlib->object-detection==0.1) (0.10.0)\r\n",
      "Requirement already satisfied: absl-py>=0.2.2 in /home/aafaq/.local/lib/python3.7/site-packages (from tf-slim->object-detection==0.1) (0.9.0)\r\n",
      "Requirement already satisfied: setuptools>=18.0 in /media/aafaq/work_drive/anaconda3/envs/NNs/lib/python3.7/site-packages (from pycocotools->object-detection==0.1) (47.3.0.post20200616)\r\n",
      "Requirement already satisfied: opencv-python-headless in /media/aafaq/work_drive/anaconda3/envs/NNs/lib/python3.7/site-packages (from tf-models-official->object-detection==0.1) (4.4.0.44)\r\n",
      "Requirement already satisfied: kaggle>=1.3.9 in /media/aafaq/work_drive/anaconda3/envs/NNs/lib/python3.7/site-packages (from tf-models-official->object-detection==0.1) (1.5.8)\r\n",
      "Requirement already satisfied: py-cpuinfo>=3.3.0 in /media/aafaq/work_drive/anaconda3/envs/NNs/lib/python3.7/site-packages (from tf-models-official->object-detection==0.1) (7.0.0)\r\n",
      "Requirement already satisfied: tensorflow-model-optimization>=0.2.1 in /media/aafaq/work_drive/anaconda3/envs/NNs/lib/python3.7/site-packages (from tf-models-official->object-detection==0.1) (0.5.0)\r\n",
      "Requirement already satisfied: tensorflow-datasets in /media/aafaq/work_drive/anaconda3/envs/NNs/lib/python3.7/site-packages (from tf-models-official->object-detection==0.1) (3.2.1)\r\n",
      "Requirement already satisfied: sentencepiece in /media/aafaq/work_drive/anaconda3/envs/NNs/lib/python3.7/site-packages (from tf-models-official->object-detection==0.1) (0.1.91)\r\n",
      "Requirement already satisfied: tensorflow>=2.3.0 in /media/aafaq/work_drive/anaconda3/envs/NNs/lib/python3.7/site-packages (from tf-models-official->object-detection==0.1) (2.3.1)\r\n",
      "Requirement already satisfied: google-cloud-bigquery>=0.31.0 in /media/aafaq/work_drive/anaconda3/envs/NNs/lib/python3.7/site-packages (from tf-models-official->object-detection==0.1) (1.28.0)\r\n",
      "Requirement already satisfied: tensorflow-addons in /media/aafaq/work_drive/anaconda3/envs/NNs/lib/python3.7/site-packages (from tf-models-official->object-detection==0.1) (0.11.2)\r\n",
      "Requirement already satisfied: pyyaml in /media/aafaq/work_drive/anaconda3/envs/NNs/lib/python3.7/site-packages (from tf-models-official->object-detection==0.1) (5.3.1)\r\n",
      "Requirement already satisfied: dataclasses in /media/aafaq/work_drive/anaconda3/envs/NNs/lib/python3.7/site-packages (from tf-models-official->object-detection==0.1) (0.6)\r\n",
      "Requirement already satisfied: google-api-python-client>=1.6.7 in /media/aafaq/work_drive/anaconda3/envs/NNs/lib/python3.7/site-packages (from tf-models-official->object-detection==0.1) (1.12.2)\r\n",
      "Requirement already satisfied: tensorflow-hub>=0.6.0 in /media/aafaq/work_drive/anaconda3/envs/NNs/lib/python3.7/site-packages (from tf-models-official->object-detection==0.1) (0.9.0)\r\n",
      "Requirement already satisfied: gin-config in /home/aafaq/.local/lib/python3.7/site-packages (from tf-models-official->object-detection==0.1) (0.1.3)\r\n",
      "Requirement already satisfied: psutil>=5.4.3 in /media/aafaq/work_drive/anaconda3/envs/NNs/lib/python3.7/site-packages (from tf-models-official->object-detection==0.1) (5.7.2)\r\n",
      "Requirement already satisfied: pbr>=0.11 in /media/aafaq/work_drive/anaconda3/envs/NNs/lib/python3.7/site-packages (from mock<3.0.0,>=1.0.1->apache-beam->object-detection==0.1) (5.5.0)\r\n",
      "Requirement already satisfied: docopt in /media/aafaq/work_drive/anaconda3/envs/NNs/lib/python3.7/site-packages (from hdfs<3.0.0,>=2.1.0->apache-beam->object-detection==0.1) (0.6.2)\r\n",
      "Requirement already satisfied: rsa>=3.1.4 in /home/aafaq/.local/lib/python3.7/site-packages (from oauth2client<4,>=2.0.1->apache-beam->object-detection==0.1) (4.6)\r\n",
      "Requirement already satisfied: pyasn1>=0.1.7 in /home/aafaq/.local/lib/python3.7/site-packages (from oauth2client<4,>=2.0.1->apache-beam->object-detection==0.1) (0.4.8)\r\n",
      "Requirement already satisfied: pyasn1-modules>=0.0.5 in /home/aafaq/.local/lib/python3.7/site-packages (from oauth2client<4,>=2.0.1->apache-beam->object-detection==0.1) (0.2.8)\r\n",
      "Requirement already satisfied: idna<3,>=2.5 in /media/aafaq/work_drive/anaconda3/envs/NNs/lib/python3.7/site-packages (from requests<3.0.0,>=2.24.0->apache-beam->object-detection==0.1) (2.9)\r\n",
      "Requirement already satisfied: chardet<4,>=3.0.2 in /media/aafaq/work_drive/anaconda3/envs/NNs/lib/python3.7/site-packages (from requests<3.0.0,>=2.24.0->apache-beam->object-detection==0.1) (3.0.4)\r\n",
      "Requirement already satisfied: urllib3!=1.25.0,!=1.25.1,<1.26,>=1.21.1 in /media/aafaq/work_drive/anaconda3/envs/NNs/lib/python3.7/site-packages (from requests<3.0.0,>=2.24.0->apache-beam->object-detection==0.1) (1.24.3)\r\n",
      "Requirement already satisfied: certifi>=2017.4.17 in /media/aafaq/work_drive/anaconda3/envs/NNs/lib/python3.7/site-packages (from requests<3.0.0,>=2.24.0->apache-beam->object-detection==0.1) (2020.6.20)\r\n",
      "Requirement already satisfied: slugify in /media/aafaq/work_drive/anaconda3/envs/NNs/lib/python3.7/site-packages (from kaggle>=1.3.9->tf-models-official->object-detection==0.1) (0.0.1)\r\n",
      "Requirement already satisfied: tqdm in /media/aafaq/work_drive/anaconda3/envs/NNs/lib/python3.7/site-packages (from kaggle>=1.3.9->tf-models-official->object-detection==0.1) (4.48.2)\r\n",
      "Requirement already satisfied: python-slugify in /media/aafaq/work_drive/anaconda3/envs/NNs/lib/python3.7/site-packages (from kaggle>=1.3.9->tf-models-official->object-detection==0.1) (4.0.1)\r\n",
      "Requirement already satisfied: dm-tree~=0.1.1 in /media/aafaq/work_drive/anaconda3/envs/NNs/lib/python3.7/site-packages (from tensorflow-model-optimization>=0.2.1->tf-models-official->object-detection==0.1) (0.1.5)\r\n",
      "Requirement already satisfied: wrapt in /media/aafaq/work_drive/anaconda3/envs/NNs/lib/python3.7/site-packages (from tensorflow-datasets->tf-models-official->object-detection==0.1) (1.12.1)\r\n",
      "Requirement already satisfied: termcolor in /home/aafaq/.local/lib/python3.7/site-packages (from tensorflow-datasets->tf-models-official->object-detection==0.1) (1.1.0)\r\n",
      "Requirement already satisfied: promise in /media/aafaq/work_drive/anaconda3/envs/NNs/lib/python3.7/site-packages (from tensorflow-datasets->tf-models-official->object-detection==0.1) (2.3)\r\n",
      "Requirement already satisfied: tensorflow-metadata in /media/aafaq/work_drive/anaconda3/envs/NNs/lib/python3.7/site-packages (from tensorflow-datasets->tf-models-official->object-detection==0.1) (0.24.0)\r\n",
      "Requirement already satisfied: attrs>=18.1.0 in /media/aafaq/work_drive/anaconda3/envs/NNs/lib/python3.7/site-packages (from tensorflow-datasets->tf-models-official->object-detection==0.1) (19.3.0)\r\n",
      "Requirement already satisfied: gast==0.3.3 in /home/aafaq/.local/lib/python3.7/site-packages (from tensorflow>=2.3.0->tf-models-official->object-detection==0.1) (0.3.3)\r\n",
      "Requirement already satisfied: tensorflow-estimator<2.4.0,>=2.3.0 in /media/aafaq/work_drive/anaconda3/envs/NNs/lib/python3.7/site-packages (from tensorflow>=2.3.0->tf-models-official->object-detection==0.1) (2.3.0)\r\n",
      "Requirement already satisfied: keras-preprocessing<1.2,>=1.1.1 in /home/aafaq/.local/lib/python3.7/site-packages (from tensorflow>=2.3.0->tf-models-official->object-detection==0.1) (1.1.2)\r\n",
      "Requirement already satisfied: h5py<2.11.0,>=2.10.0 in /home/aafaq/.local/lib/python3.7/site-packages (from tensorflow>=2.3.0->tf-models-official->object-detection==0.1) (2.10.0)\r\n",
      "Requirement already satisfied: tensorboard<3,>=2.3.0 in /media/aafaq/work_drive/anaconda3/envs/NNs/lib/python3.7/site-packages (from tensorflow>=2.3.0->tf-models-official->object-detection==0.1) (2.3.0)\r\n",
      "Requirement already satisfied: wheel>=0.26 in /media/aafaq/work_drive/anaconda3/envs/NNs/lib/python3.7/site-packages (from tensorflow>=2.3.0->tf-models-official->object-detection==0.1) (0.34.2)\r\n",
      "Requirement already satisfied: opt-einsum>=2.3.2 in /home/aafaq/.local/lib/python3.7/site-packages (from tensorflow>=2.3.0->tf-models-official->object-detection==0.1) (3.2.1)\r\n",
      "Requirement already satisfied: google-pasta>=0.1.8 in /home/aafaq/.local/lib/python3.7/site-packages (from tensorflow>=2.3.0->tf-models-official->object-detection==0.1) (0.2.0)\r\n",
      "Requirement already satisfied: astunparse==1.6.3 in /media/aafaq/work_drive/anaconda3/envs/NNs/lib/python3.7/site-packages (from tensorflow>=2.3.0->tf-models-official->object-detection==0.1) (1.6.3)\r\n",
      "Requirement already satisfied: google-cloud-core<2.0dev,>=1.4.1 in /media/aafaq/work_drive/anaconda3/envs/NNs/lib/python3.7/site-packages (from google-cloud-bigquery>=0.31.0->tf-models-official->object-detection==0.1) (1.4.1)\r\n",
      "Requirement already satisfied: google-resumable-media<2.0dev,>=0.6.0 in /media/aafaq/work_drive/anaconda3/envs/NNs/lib/python3.7/site-packages (from google-cloud-bigquery>=0.31.0->tf-models-official->object-detection==0.1) (0.7.1)\r\n",
      "Requirement already satisfied: google-api-core<2.0dev,>=1.21.0 in /media/aafaq/work_drive/anaconda3/envs/NNs/lib/python3.7/site-packages (from google-cloud-bigquery>=0.31.0->tf-models-official->object-detection==0.1) (1.22.1)\r\n",
      "Requirement already satisfied: typeguard>=2.7 in /media/aafaq/work_drive/anaconda3/envs/NNs/lib/python3.7/site-packages (from tensorflow-addons->tf-models-official->object-detection==0.1) (2.9.1)\r\n",
      "Requirement already satisfied: google-auth-httplib2>=0.0.3 in /media/aafaq/work_drive/anaconda3/envs/NNs/lib/python3.7/site-packages (from google-api-python-client>=1.6.7->tf-models-official->object-detection==0.1) (0.0.4)\r\n",
      "Requirement already satisfied: google-auth>=1.16.0 in /home/aafaq/.local/lib/python3.7/site-packages (from google-api-python-client>=1.6.7->tf-models-official->object-detection==0.1) (1.18.0)\r\n",
      "Requirement already satisfied: uritemplate<4dev,>=3.0.0 in /media/aafaq/work_drive/anaconda3/envs/NNs/lib/python3.7/site-packages (from google-api-python-client>=1.6.7->tf-models-official->object-detection==0.1) (3.0.1)\r\n",
      "Requirement already satisfied: text-unidecode>=1.3 in /media/aafaq/work_drive/anaconda3/envs/NNs/lib/python3.7/site-packages (from python-slugify->kaggle>=1.3.9->tf-models-official->object-detection==0.1) (1.3)\r\n",
      "Requirement already satisfied: googleapis-common-protos<2,>=1.52.0 in /media/aafaq/work_drive/anaconda3/envs/NNs/lib/python3.7/site-packages (from tensorflow-metadata->tensorflow-datasets->tf-models-official->object-detection==0.1) (1.52.0)\r\n",
      "Requirement already satisfied: google-auth-oauthlib<0.5,>=0.4.1 in /home/aafaq/.local/lib/python3.7/site-packages (from tensorboard<3,>=2.3.0->tensorflow>=2.3.0->tf-models-official->object-detection==0.1) (0.4.1)\r\n",
      "Requirement already satisfied: markdown>=2.6.8 in /home/aafaq/.local/lib/python3.7/site-packages (from tensorboard<3,>=2.3.0->tensorflow>=2.3.0->tf-models-official->object-detection==0.1) (3.2.2)\r\n",
      "Requirement already satisfied: werkzeug>=0.11.15 in /media/aafaq/work_drive/anaconda3/envs/NNs/lib/python3.7/site-packages (from tensorboard<3,>=2.3.0->tensorflow>=2.3.0->tf-models-official->object-detection==0.1) (1.0.1)\r\n",
      "Requirement already satisfied: tensorboard-plugin-wit>=1.6.0 in /home/aafaq/.local/lib/python3.7/site-packages (from tensorboard<3,>=2.3.0->tensorflow>=2.3.0->tf-models-official->object-detection==0.1) (1.6.0.post3)\r\n",
      "Requirement already satisfied: google-crc32c<0.2dev,>=0.1.0; python_version >= \"3.5\" in /media/aafaq/work_drive/anaconda3/envs/NNs/lib/python3.7/site-packages (from google-resumable-media<2.0dev,>=0.6.0->google-cloud-bigquery>=0.31.0->tf-models-official->object-detection==0.1) (0.1.0)\r\n",
      "Requirement already satisfied: cachetools<5.0,>=2.0.0 in /home/aafaq/.local/lib/python3.7/site-packages (from google-auth>=1.16.0->google-api-python-client>=1.6.7->tf-models-official->object-detection==0.1) (4.1.0)\r\n",
      "Requirement already satisfied: requests-oauthlib>=0.7.0 in /home/aafaq/.local/lib/python3.7/site-packages (from google-auth-oauthlib<0.5,>=0.4.1->tensorboard<3,>=2.3.0->tensorflow>=2.3.0->tf-models-official->object-detection==0.1) (1.3.0)\r\n",
      "Requirement already satisfied: importlib-metadata; python_version < \"3.8\" in /home/aafaq/.local/lib/python3.7/site-packages (from markdown>=2.6.8->tensorboard<3,>=2.3.0->tensorflow>=2.3.0->tf-models-official->object-detection==0.1) (1.6.1)\r\n",
      "Requirement already satisfied: cffi>=1.0.0 in /media/aafaq/work_drive/anaconda3/envs/NNs/lib/python3.7/site-packages (from google-crc32c<0.2dev,>=0.1.0; python_version >= \"3.5\"->google-resumable-media<2.0dev,>=0.6.0->google-cloud-bigquery>=0.31.0->tf-models-official->object-detection==0.1) (1.14.0)\r\n",
      "Requirement already satisfied: oauthlib>=3.0.0 in /home/aafaq/.local/lib/python3.7/site-packages (from requests-oauthlib>=0.7.0->google-auth-oauthlib<0.5,>=0.4.1->tensorboard<3,>=2.3.0->tensorflow>=2.3.0->tf-models-official->object-detection==0.1) (3.1.0)\r\n",
      "Requirement already satisfied: zipp>=0.5 in /home/aafaq/.local/lib/python3.7/site-packages (from importlib-metadata; python_version < \"3.8\"->markdown>=2.6.8->tensorboard<3,>=2.3.0->tensorflow>=2.3.0->tf-models-official->object-detection==0.1) (3.1.0)\r\n",
      "Requirement already satisfied: pycparser in /media/aafaq/work_drive/anaconda3/envs/NNs/lib/python3.7/site-packages (from cffi>=1.0.0->google-crc32c<0.2dev,>=0.1.0; python_version >= \"3.5\"->google-resumable-media<2.0dev,>=0.6.0->google-cloud-bigquery>=0.31.0->tf-models-official->object-detection==0.1) (2.20)\r\n",
      "Building wheels for collected packages: object-detection\r\n",
      "  Building wheel for object-detection (setup.py) ... \u001B[?25l-\b \b\\\b \b|\b \b/\b \bdone\r\n",
      "\u001B[?25h  Created wheel for object-detection: filename=object_detection-0.1-py3-none-any.whl size=1579689 sha256=befd6d425f1caa512b57816eec7ab39da6ff9c4151dff1ee0220a0d1f45f87c0\r\n",
      "  Stored in directory: /tmp/pip-ephem-wheel-cache-xw5lq3ff/wheels/95/e0/c1/89b08b1f334c74157df4daf22ba78c54f50864f11fd70c2963\r\n",
      "Successfully built object-detection\r\n",
      "Installing collected packages: object-detection\r\n",
      "  Attempting uninstall: object-detection\r\n",
      "    Found existing installation: object-detection 0.1\r\n",
      "    Uninstalling object-detection-0.1:\r\n",
      "      Successfully uninstalled object-detection-0.1\r\n",
      "Successfully installed object-detection-0.1\r\n"
     ]
    }
   ],
   "source": [
    "%cd models/research/\n",
    "!protoc object_detection/protos/*.proto --python_out=.\n",
    "!cp object_detection/packages/tf2/setup.py .\n",
    "!python -m pip install .\n",
    "\n"
   ],
   "metadata": {
    "collapsed": false,
    "pycharm": {
     "name": "#%%bash\n"
    }
   }
  },
  {
   "cell_type": "code",
   "execution_count": 4,
   "outputs": [
    {
     "name": "stdout",
     "output_type": "stream",
     "text": [
      "a3c_blogpost\t    cvt_text\t   lstm_object_detection  rebar\r\n",
      "adversarial_text    deeplab\t   marco\t\t  sequence_projection\r\n",
      "attention_ocr\t    deep_speech    nst_blogpost\t\t  setup.py\r\n",
      "audioset\t    delf\t   object_detection\t  slim\r\n",
      "autoaugment\t    efficient-hrl  pcl_rl\t\t  vid2depth\r\n",
      "cognitive_planning  lfads\t   README.md\r\n"
     ]
    }
   ],
   "source": [
    "!pwd\n",
    "!ls"
   ],
   "metadata": {
    "collapsed": false,
    "pycharm": {
     "name": "#%%\n"
    }
   }
  },
  {
   "cell_type": "code",
   "execution_count": 5,
   "outputs": [],
   "source": [
    "import matplotlib\n",
    "import matplotlib.pyplot as plt\n",
    "\n",
    "import io\n",
    "import scipy.misc\n",
    "import numpy as np\n",
    "from six import BytesIO\n",
    "from PIL import Image, ImageDraw, ImageFont\n",
    "\n",
    "import tensorflow as tf\n",
    "\n",
    "from object_detection.utils import label_map_util\n",
    "from object_detection.utils import config_util\n",
    "from object_detection.utils import visualization_utils as viz_utils\n",
    "from object_detection.builders import model_builder\n",
    "\n",
    "%matplotlib inline\n"
   ],
   "metadata": {
    "collapsed": false,
    "pycharm": {
     "name": "#%%\n"
    }
   }
  },
  {
   "cell_type": "code",
   "execution_count": 6,
   "outputs": [],
   "source": [
    "def load_image_into_numpy_array(path):\n",
    "  \"\"\"Load an image from file into a numpy array.\n",
    "\n",
    "  Puts image into numpy array to feed into tensorflow graph.\n",
    "  Note that by convention we put it into a numpy array with shape\n",
    "  (height, width, channels), where channels=3 for RGB.\n",
    "\n",
    "  Args:\n",
    "    path: the file path to the image\n",
    "\n",
    "  Returns:\n",
    "    uint8 numpy array with shape (img_height, img_width, 3)\n",
    "  \"\"\"\n",
    "  img_data = tf.io.gfile.GFile(path, 'rb').read()\n",
    "  image = Image.open(BytesIO(img_data))\n",
    "  (im_width, im_height) = image.size\n",
    "  return np.array(image.getdata()).reshape(\n",
    "      (im_height, im_width, 3)).astype(np.uint8)\n",
    "\n",
    "def get_keypoint_tuples(eval_config):\n",
    "  \"\"\"Return a tuple list of keypoint edges from the eval config.\n",
    "\n",
    "  Args:\n",
    "    eval_config: an eval config containing the keypoint edges\n",
    "\n",
    "  Returns:\n",
    "    a list of edge tuples, each in the format (start, end)\n",
    "  \"\"\"\n",
    "  tuple_list = []\n",
    "  kp_list = eval_config.keypoint_edge\n",
    "  for edge in kp_list:\n",
    "    tuple_list.append((edge.start, edge.end))\n",
    "  return tuple_list\n"
   ],
   "metadata": {
    "collapsed": false,
    "pycharm": {
     "name": "#%%\n"
    }
   }
  },
  {
   "cell_type": "code",
   "execution_count": 2,
   "outputs": [],
   "source": [],
   "metadata": {
    "collapsed": false,
    "pycharm": {
     "name": "#%%\n"
    }
   }
  },
  {
   "cell_type": "code",
   "execution_count": 2,
   "outputs": [],
   "source": [],
   "metadata": {
    "collapsed": false,
    "pycharm": {
     "name": "#%%\n"
    }
   }
  },
  {
   "cell_type": "code",
   "execution_count": 2,
   "outputs": [],
   "source": [],
   "metadata": {
    "collapsed": false,
    "pycharm": {
     "name": "#%%\n"
    }
   }
  },
  {
   "cell_type": "code",
   "execution_count": 2,
   "outputs": [],
   "source": [],
   "metadata": {
    "collapsed": false,
    "pycharm": {
     "name": "#%%\n"
    }
   }
  },
  {
   "cell_type": "code",
   "execution_count": 2,
   "outputs": [],
   "source": [],
   "metadata": {
    "collapsed": false,
    "pycharm": {
     "name": "#%%\n"
    }
   }
  },
  {
   "cell_type": "code",
   "execution_count": 2,
   "outputs": [],
   "source": [],
   "metadata": {
    "collapsed": false,
    "pycharm": {
     "name": "#%%\n"
    }
   }
  },
  {
   "cell_type": "code",
   "execution_count": 2,
   "outputs": [],
   "source": [],
   "metadata": {
    "collapsed": false,
    "pycharm": {
     "name": "#%%\n"
    }
   }
  },
  {
   "cell_type": "code",
   "execution_count": 2,
   "outputs": [],
   "source": [],
   "metadata": {
    "collapsed": false,
    "pycharm": {
     "name": "#%%\n"
    }
   }
  },
  {
   "cell_type": "code",
   "execution_count": 2,
   "outputs": [],
   "source": [],
   "metadata": {
    "collapsed": false,
    "pycharm": {
     "name": "#%%\n"
    }
   }
  },
  {
   "cell_type": "code",
   "execution_count": 2,
   "outputs": [],
   "source": [],
   "metadata": {
    "collapsed": false,
    "pycharm": {
     "name": "#%%\n"
    }
   }
  },
  {
   "cell_type": "code",
   "execution_count": null,
   "outputs": [],
   "source": [
    "\n"
   ],
   "metadata": {
    "collapsed": false,
    "pycharm": {
     "name": "#%%\n"
    }
   }
  }
 ],
 "metadata": {
  "kernelspec": {
   "display_name": "Python 3",
   "language": "python",
   "name": "python3"
  },
  "language_info": {
   "codemirror_mode": {
    "name": "ipython",
    "version": 2
   },
   "file_extension": ".py",
   "mimetype": "text/x-python",
   "name": "python",
   "nbconvert_exporter": "python",
   "pygments_lexer": "ipython2",
   "version": "2.7.6"
  }
 },
 "nbformat": 4,
 "nbformat_minor": 0
}